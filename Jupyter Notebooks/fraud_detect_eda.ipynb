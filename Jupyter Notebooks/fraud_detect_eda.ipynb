{
 "cells": [
  {
   "cell_type": "markdown",
   "metadata": {},
   "source": [
    "## Imports and Loading Data "
   ]
  },
  {
   "cell_type": "code",
   "execution_count": 1,
   "metadata": {},
   "outputs": [
    {
     "data": {
      "text/html": [
       "<div>\n",
       "<style scoped>\n",
       "    .dataframe tbody tr th:only-of-type {\n",
       "        vertical-align: middle;\n",
       "    }\n",
       "\n",
       "    .dataframe tbody tr th {\n",
       "        vertical-align: top;\n",
       "    }\n",
       "\n",
       "    .dataframe thead th {\n",
       "        text-align: right;\n",
       "    }\n",
       "</style>\n",
       "<table border=\"1\" class=\"dataframe\">\n",
       "  <thead>\n",
       "    <tr style=\"text-align: right;\">\n",
       "      <th></th>\n",
       "      <th>step</th>\n",
       "      <th>type</th>\n",
       "      <th>amount</th>\n",
       "      <th>nameOrig</th>\n",
       "      <th>oldbalanceOrg</th>\n",
       "      <th>newbalanceOrig</th>\n",
       "      <th>nameDest</th>\n",
       "      <th>oldbalanceDest</th>\n",
       "      <th>newbalanceDest</th>\n",
       "      <th>isFraud</th>\n",
       "      <th>isFlaggedFraud</th>\n",
       "    </tr>\n",
       "  </thead>\n",
       "  <tbody>\n",
       "    <tr>\n",
       "      <th>0</th>\n",
       "      <td>1</td>\n",
       "      <td>PAYMENT</td>\n",
       "      <td>9839.64</td>\n",
       "      <td>C1231006815</td>\n",
       "      <td>170136.00</td>\n",
       "      <td>160296.36</td>\n",
       "      <td>M1979787155</td>\n",
       "      <td>0.0</td>\n",
       "      <td>0.00</td>\n",
       "      <td>0</td>\n",
       "      <td>0</td>\n",
       "    </tr>\n",
       "    <tr>\n",
       "      <th>1</th>\n",
       "      <td>1</td>\n",
       "      <td>PAYMENT</td>\n",
       "      <td>1864.28</td>\n",
       "      <td>C1666544295</td>\n",
       "      <td>21249.00</td>\n",
       "      <td>19384.72</td>\n",
       "      <td>M2044282225</td>\n",
       "      <td>0.0</td>\n",
       "      <td>0.00</td>\n",
       "      <td>0</td>\n",
       "      <td>0</td>\n",
       "    </tr>\n",
       "    <tr>\n",
       "      <th>2</th>\n",
       "      <td>1</td>\n",
       "      <td>TRANSFER</td>\n",
       "      <td>181.00</td>\n",
       "      <td>C1305486145</td>\n",
       "      <td>181.00</td>\n",
       "      <td>0.00</td>\n",
       "      <td>C553264065</td>\n",
       "      <td>0.0</td>\n",
       "      <td>0.00</td>\n",
       "      <td>1</td>\n",
       "      <td>0</td>\n",
       "    </tr>\n",
       "    <tr>\n",
       "      <th>3</th>\n",
       "      <td>1</td>\n",
       "      <td>CASH_OUT</td>\n",
       "      <td>181.00</td>\n",
       "      <td>C840083671</td>\n",
       "      <td>181.00</td>\n",
       "      <td>0.00</td>\n",
       "      <td>C38997010</td>\n",
       "      <td>21182.0</td>\n",
       "      <td>0.00</td>\n",
       "      <td>1</td>\n",
       "      <td>0</td>\n",
       "    </tr>\n",
       "    <tr>\n",
       "      <th>4</th>\n",
       "      <td>1</td>\n",
       "      <td>PAYMENT</td>\n",
       "      <td>11668.14</td>\n",
       "      <td>C2048537720</td>\n",
       "      <td>41554.00</td>\n",
       "      <td>29885.86</td>\n",
       "      <td>M1230701703</td>\n",
       "      <td>0.0</td>\n",
       "      <td>0.00</td>\n",
       "      <td>0</td>\n",
       "      <td>0</td>\n",
       "    </tr>\n",
       "    <tr>\n",
       "      <th>5</th>\n",
       "      <td>1</td>\n",
       "      <td>PAYMENT</td>\n",
       "      <td>7817.71</td>\n",
       "      <td>C90045638</td>\n",
       "      <td>53860.00</td>\n",
       "      <td>46042.29</td>\n",
       "      <td>M573487274</td>\n",
       "      <td>0.0</td>\n",
       "      <td>0.00</td>\n",
       "      <td>0</td>\n",
       "      <td>0</td>\n",
       "    </tr>\n",
       "    <tr>\n",
       "      <th>6</th>\n",
       "      <td>1</td>\n",
       "      <td>PAYMENT</td>\n",
       "      <td>7107.77</td>\n",
       "      <td>C154988899</td>\n",
       "      <td>183195.00</td>\n",
       "      <td>176087.23</td>\n",
       "      <td>M408069119</td>\n",
       "      <td>0.0</td>\n",
       "      <td>0.00</td>\n",
       "      <td>0</td>\n",
       "      <td>0</td>\n",
       "    </tr>\n",
       "    <tr>\n",
       "      <th>7</th>\n",
       "      <td>1</td>\n",
       "      <td>PAYMENT</td>\n",
       "      <td>7861.64</td>\n",
       "      <td>C1912850431</td>\n",
       "      <td>176087.23</td>\n",
       "      <td>168225.59</td>\n",
       "      <td>M633326333</td>\n",
       "      <td>0.0</td>\n",
       "      <td>0.00</td>\n",
       "      <td>0</td>\n",
       "      <td>0</td>\n",
       "    </tr>\n",
       "    <tr>\n",
       "      <th>8</th>\n",
       "      <td>1</td>\n",
       "      <td>PAYMENT</td>\n",
       "      <td>4024.36</td>\n",
       "      <td>C1265012928</td>\n",
       "      <td>2671.00</td>\n",
       "      <td>0.00</td>\n",
       "      <td>M1176932104</td>\n",
       "      <td>0.0</td>\n",
       "      <td>0.00</td>\n",
       "      <td>0</td>\n",
       "      <td>0</td>\n",
       "    </tr>\n",
       "    <tr>\n",
       "      <th>9</th>\n",
       "      <td>1</td>\n",
       "      <td>DEBIT</td>\n",
       "      <td>5337.77</td>\n",
       "      <td>C712410124</td>\n",
       "      <td>41720.00</td>\n",
       "      <td>36382.23</td>\n",
       "      <td>C195600860</td>\n",
       "      <td>41898.0</td>\n",
       "      <td>40348.79</td>\n",
       "      <td>0</td>\n",
       "      <td>0</td>\n",
       "    </tr>\n",
       "  </tbody>\n",
       "</table>\n",
       "</div>"
      ],
      "text/plain": [
       "   step      type    amount     nameOrig  oldbalanceOrg  newbalanceOrig  \\\n",
       "0     1   PAYMENT   9839.64  C1231006815      170136.00       160296.36   \n",
       "1     1   PAYMENT   1864.28  C1666544295       21249.00        19384.72   \n",
       "2     1  TRANSFER    181.00  C1305486145         181.00            0.00   \n",
       "3     1  CASH_OUT    181.00   C840083671         181.00            0.00   \n",
       "4     1   PAYMENT  11668.14  C2048537720       41554.00        29885.86   \n",
       "5     1   PAYMENT   7817.71    C90045638       53860.00        46042.29   \n",
       "6     1   PAYMENT   7107.77   C154988899      183195.00       176087.23   \n",
       "7     1   PAYMENT   7861.64  C1912850431      176087.23       168225.59   \n",
       "8     1   PAYMENT   4024.36  C1265012928        2671.00            0.00   \n",
       "9     1     DEBIT   5337.77   C712410124       41720.00        36382.23   \n",
       "\n",
       "      nameDest  oldbalanceDest  newbalanceDest  isFraud  isFlaggedFraud  \n",
       "0  M1979787155             0.0            0.00        0               0  \n",
       "1  M2044282225             0.0            0.00        0               0  \n",
       "2   C553264065             0.0            0.00        1               0  \n",
       "3    C38997010         21182.0            0.00        1               0  \n",
       "4  M1230701703             0.0            0.00        0               0  \n",
       "5   M573487274             0.0            0.00        0               0  \n",
       "6   M408069119             0.0            0.00        0               0  \n",
       "7   M633326333             0.0            0.00        0               0  \n",
       "8  M1176932104             0.0            0.00        0               0  \n",
       "9   C195600860         41898.0        40348.79        0               0  "
      ]
     },
     "execution_count": 1,
     "metadata": {},
     "output_type": "execute_result"
    }
   ],
   "source": [
    "from sklearn import datasets\n",
    "from sklearn.model_selection import train_test_split\n",
    "from sklearn.preprocessing import StandardScaler\n",
    "from sklearn.linear_model import LogisticRegression\n",
    "from sklearn.model_selection import RandomizedSearchCV\n",
    "from sklearn.metrics import accuracy_score, roc_auc_score, f1_score,confusion_matrix, classification_report, roc_curve, auc \n",
    "from imblearn.over_sampling import SMOTE\n",
    "from sklearn.model_selection import train_test_split\n",
    "from sklearn.ensemble import RandomForestClassifier\n",
    "from sklearn.metrics import classification_report\n",
    "import numpy as np\n",
    "import pandas as pd\n",
    "import matplotlib.pyplot as plt\n",
    "import seaborn as sns\n",
    "\n",
    "\n",
    "# Load fraud detection dataset\n",
    "data = pd.read_csv('../Raw Data /PS_20174392719_1491204439457_log.csv')\n",
    "data_ = pd.DataFrame(data)\n",
    "data_.head(10)"
   ]
  },
  {
   "cell_type": "code",
   "execution_count": 2,
   "metadata": {},
   "outputs": [
    {
     "name": "stdout",
     "output_type": "stream",
     "text": [
      "<class 'pandas.core.frame.DataFrame'>\n",
      "RangeIndex: 6362620 entries, 0 to 6362619\n",
      "Data columns (total 11 columns):\n",
      " #   Column          Dtype  \n",
      "---  ------          -----  \n",
      " 0   step            int64  \n",
      " 1   type            object \n",
      " 2   amount          float64\n",
      " 3   nameOrig        object \n",
      " 4   oldbalanceOrg   float64\n",
      " 5   newbalanceOrig  float64\n",
      " 6   nameDest        object \n",
      " 7   oldbalanceDest  float64\n",
      " 8   newbalanceDest  float64\n",
      " 9   isFraud         int64  \n",
      " 10  isFlaggedFraud  int64  \n",
      "dtypes: float64(5), int64(3), object(3)\n",
      "memory usage: 534.0+ MB\n"
     ]
    }
   ],
   "source": [
    "data.info()"
   ]
  },
  {
   "cell_type": "code",
   "execution_count": 5,
   "metadata": {},
   "outputs": [
    {
     "data": {
      "text/plain": [
       "step              0\n",
       "type              0\n",
       "amount            0\n",
       "nameOrig          0\n",
       "oldbalanceOrg     0\n",
       "newbalanceOrig    0\n",
       "nameDest          0\n",
       "oldbalanceDest    0\n",
       "newbalanceDest    0\n",
       "isFraud           0\n",
       "isFlaggedFraud    0\n",
       "dtype: int64"
      ]
     },
     "execution_count": 5,
     "metadata": {},
     "output_type": "execute_result"
    }
   ],
   "source": [
    "data.isna().sum()"
   ]
  },
  {
   "cell_type": "code",
   "execution_count": 4,
   "metadata": {},
   "outputs": [
    {
     "data": {
      "text/plain": [
       "step              0\n",
       "type              0\n",
       "amount            0\n",
       "nameOrig          0\n",
       "oldbalanceOrg     0\n",
       "newbalanceOrig    0\n",
       "nameDest          0\n",
       "oldbalanceDest    0\n",
       "newbalanceDest    0\n",
       "isFraud           0\n",
       "isFlaggedFraud    0\n",
       "dtype: int64"
      ]
     },
     "execution_count": 4,
     "metadata": {},
     "output_type": "execute_result"
    }
   ],
   "source": [
    "data.isnull().sum()"
   ]
  },
  {
   "cell_type": "markdown",
   "metadata": {},
   "source": [
    "## Data Cleaning "
   ]
  },
  {
   "cell_type": "code",
   "execution_count": 3,
   "metadata": {},
   "outputs": [],
   "source": [
    "# Although the project is not actually in USD, it will be easier to understand the context and understand outliers \n",
    "# better by viewing the necessary columns as currency \n",
    "\n",
    "data['amount'] = data['amount'].apply(lambda x: f\"${x:,.2f}\")\n",
    "data['oldbalanceOrg'] = data['oldbalanceOrg'].apply(lambda x: f\"${x:,.2f}\")\n",
    "data['newbalanceOrig'] = data['newbalanceOrig'].apply(lambda x: f\"${x:,.2f}\")\n",
    "data['oldbalanceDest'] = data['oldbalanceDest'].apply(lambda x: f\"${x:,.2f}\")\n",
    "data['newbalanceDest'] = data['newbalanceDest'].apply(lambda x: f\"${x:,.2f}\")"
   ]
  },
  {
   "cell_type": "code",
   "execution_count": 6,
   "metadata": {},
   "outputs": [
    {
     "data": {
      "text/html": [
       "<div>\n",
       "<style scoped>\n",
       "    .dataframe tbody tr th:only-of-type {\n",
       "        vertical-align: middle;\n",
       "    }\n",
       "\n",
       "    .dataframe tbody tr th {\n",
       "        vertical-align: top;\n",
       "    }\n",
       "\n",
       "    .dataframe thead th {\n",
       "        text-align: right;\n",
       "    }\n",
       "</style>\n",
       "<table border=\"1\" class=\"dataframe\">\n",
       "  <thead>\n",
       "    <tr style=\"text-align: right;\">\n",
       "      <th></th>\n",
       "      <th>step</th>\n",
       "      <th>type</th>\n",
       "      <th>amount</th>\n",
       "      <th>nameOrig</th>\n",
       "      <th>oldbalanceOrg</th>\n",
       "      <th>newbalanceOrig</th>\n",
       "      <th>nameDest</th>\n",
       "      <th>oldbalanceDest</th>\n",
       "      <th>newbalanceDest</th>\n",
       "      <th>isFraud</th>\n",
       "      <th>isFlaggedFraud</th>\n",
       "    </tr>\n",
       "  </thead>\n",
       "  <tbody>\n",
       "    <tr>\n",
       "      <th>0</th>\n",
       "      <td>1</td>\n",
       "      <td>PAYMENT</td>\n",
       "      <td>$9,839.64</td>\n",
       "      <td>C1231006815</td>\n",
       "      <td>$170,136.00</td>\n",
       "      <td>$160,296.36</td>\n",
       "      <td>M1979787155</td>\n",
       "      <td>$0.00</td>\n",
       "      <td>$0.00</td>\n",
       "      <td>0</td>\n",
       "      <td>0</td>\n",
       "    </tr>\n",
       "    <tr>\n",
       "      <th>1</th>\n",
       "      <td>1</td>\n",
       "      <td>PAYMENT</td>\n",
       "      <td>$1,864.28</td>\n",
       "      <td>C1666544295</td>\n",
       "      <td>$21,249.00</td>\n",
       "      <td>$19,384.72</td>\n",
       "      <td>M2044282225</td>\n",
       "      <td>$0.00</td>\n",
       "      <td>$0.00</td>\n",
       "      <td>0</td>\n",
       "      <td>0</td>\n",
       "    </tr>\n",
       "    <tr>\n",
       "      <th>2</th>\n",
       "      <td>1</td>\n",
       "      <td>TRANSFER</td>\n",
       "      <td>$181.00</td>\n",
       "      <td>C1305486145</td>\n",
       "      <td>$181.00</td>\n",
       "      <td>$0.00</td>\n",
       "      <td>C553264065</td>\n",
       "      <td>$0.00</td>\n",
       "      <td>$0.00</td>\n",
       "      <td>1</td>\n",
       "      <td>0</td>\n",
       "    </tr>\n",
       "    <tr>\n",
       "      <th>3</th>\n",
       "      <td>1</td>\n",
       "      <td>CASH_OUT</td>\n",
       "      <td>$181.00</td>\n",
       "      <td>C840083671</td>\n",
       "      <td>$181.00</td>\n",
       "      <td>$0.00</td>\n",
       "      <td>C38997010</td>\n",
       "      <td>$21,182.00</td>\n",
       "      <td>$0.00</td>\n",
       "      <td>1</td>\n",
       "      <td>0</td>\n",
       "    </tr>\n",
       "    <tr>\n",
       "      <th>4</th>\n",
       "      <td>1</td>\n",
       "      <td>PAYMENT</td>\n",
       "      <td>$11,668.14</td>\n",
       "      <td>C2048537720</td>\n",
       "      <td>$41,554.00</td>\n",
       "      <td>$29,885.86</td>\n",
       "      <td>M1230701703</td>\n",
       "      <td>$0.00</td>\n",
       "      <td>$0.00</td>\n",
       "      <td>0</td>\n",
       "      <td>0</td>\n",
       "    </tr>\n",
       "    <tr>\n",
       "      <th>5</th>\n",
       "      <td>1</td>\n",
       "      <td>PAYMENT</td>\n",
       "      <td>$7,817.71</td>\n",
       "      <td>C90045638</td>\n",
       "      <td>$53,860.00</td>\n",
       "      <td>$46,042.29</td>\n",
       "      <td>M573487274</td>\n",
       "      <td>$0.00</td>\n",
       "      <td>$0.00</td>\n",
       "      <td>0</td>\n",
       "      <td>0</td>\n",
       "    </tr>\n",
       "    <tr>\n",
       "      <th>6</th>\n",
       "      <td>1</td>\n",
       "      <td>PAYMENT</td>\n",
       "      <td>$7,107.77</td>\n",
       "      <td>C154988899</td>\n",
       "      <td>$183,195.00</td>\n",
       "      <td>$176,087.23</td>\n",
       "      <td>M408069119</td>\n",
       "      <td>$0.00</td>\n",
       "      <td>$0.00</td>\n",
       "      <td>0</td>\n",
       "      <td>0</td>\n",
       "    </tr>\n",
       "    <tr>\n",
       "      <th>7</th>\n",
       "      <td>1</td>\n",
       "      <td>PAYMENT</td>\n",
       "      <td>$7,861.64</td>\n",
       "      <td>C1912850431</td>\n",
       "      <td>$176,087.23</td>\n",
       "      <td>$168,225.59</td>\n",
       "      <td>M633326333</td>\n",
       "      <td>$0.00</td>\n",
       "      <td>$0.00</td>\n",
       "      <td>0</td>\n",
       "      <td>0</td>\n",
       "    </tr>\n",
       "    <tr>\n",
       "      <th>8</th>\n",
       "      <td>1</td>\n",
       "      <td>PAYMENT</td>\n",
       "      <td>$4,024.36</td>\n",
       "      <td>C1265012928</td>\n",
       "      <td>$2,671.00</td>\n",
       "      <td>$0.00</td>\n",
       "      <td>M1176932104</td>\n",
       "      <td>$0.00</td>\n",
       "      <td>$0.00</td>\n",
       "      <td>0</td>\n",
       "      <td>0</td>\n",
       "    </tr>\n",
       "    <tr>\n",
       "      <th>9</th>\n",
       "      <td>1</td>\n",
       "      <td>DEBIT</td>\n",
       "      <td>$5,337.77</td>\n",
       "      <td>C712410124</td>\n",
       "      <td>$41,720.00</td>\n",
       "      <td>$36,382.23</td>\n",
       "      <td>C195600860</td>\n",
       "      <td>$41,898.00</td>\n",
       "      <td>$40,348.79</td>\n",
       "      <td>0</td>\n",
       "      <td>0</td>\n",
       "    </tr>\n",
       "    <tr>\n",
       "      <th>10</th>\n",
       "      <td>1</td>\n",
       "      <td>DEBIT</td>\n",
       "      <td>$9,644.94</td>\n",
       "      <td>C1900366749</td>\n",
       "      <td>$4,465.00</td>\n",
       "      <td>$0.00</td>\n",
       "      <td>C997608398</td>\n",
       "      <td>$10,845.00</td>\n",
       "      <td>$157,982.12</td>\n",
       "      <td>0</td>\n",
       "      <td>0</td>\n",
       "    </tr>\n",
       "    <tr>\n",
       "      <th>11</th>\n",
       "      <td>1</td>\n",
       "      <td>PAYMENT</td>\n",
       "      <td>$3,099.97</td>\n",
       "      <td>C249177573</td>\n",
       "      <td>$20,771.00</td>\n",
       "      <td>$17,671.03</td>\n",
       "      <td>M2096539129</td>\n",
       "      <td>$0.00</td>\n",
       "      <td>$0.00</td>\n",
       "      <td>0</td>\n",
       "      <td>0</td>\n",
       "    </tr>\n",
       "    <tr>\n",
       "      <th>12</th>\n",
       "      <td>1</td>\n",
       "      <td>PAYMENT</td>\n",
       "      <td>$2,560.74</td>\n",
       "      <td>C1648232591</td>\n",
       "      <td>$5,070.00</td>\n",
       "      <td>$2,509.26</td>\n",
       "      <td>M972865270</td>\n",
       "      <td>$0.00</td>\n",
       "      <td>$0.00</td>\n",
       "      <td>0</td>\n",
       "      <td>0</td>\n",
       "    </tr>\n",
       "    <tr>\n",
       "      <th>13</th>\n",
       "      <td>1</td>\n",
       "      <td>PAYMENT</td>\n",
       "      <td>$11,633.76</td>\n",
       "      <td>C1716932897</td>\n",
       "      <td>$10,127.00</td>\n",
       "      <td>$0.00</td>\n",
       "      <td>M801569151</td>\n",
       "      <td>$0.00</td>\n",
       "      <td>$0.00</td>\n",
       "      <td>0</td>\n",
       "      <td>0</td>\n",
       "    </tr>\n",
       "    <tr>\n",
       "      <th>14</th>\n",
       "      <td>1</td>\n",
       "      <td>PAYMENT</td>\n",
       "      <td>$4,098.78</td>\n",
       "      <td>C1026483832</td>\n",
       "      <td>$503,264.00</td>\n",
       "      <td>$499,165.22</td>\n",
       "      <td>M1635378213</td>\n",
       "      <td>$0.00</td>\n",
       "      <td>$0.00</td>\n",
       "      <td>0</td>\n",
       "      <td>0</td>\n",
       "    </tr>\n",
       "    <tr>\n",
       "      <th>15</th>\n",
       "      <td>1</td>\n",
       "      <td>CASH_OUT</td>\n",
       "      <td>$229,133.94</td>\n",
       "      <td>C905080434</td>\n",
       "      <td>$15,325.00</td>\n",
       "      <td>$0.00</td>\n",
       "      <td>C476402209</td>\n",
       "      <td>$5,083.00</td>\n",
       "      <td>$51,513.44</td>\n",
       "      <td>0</td>\n",
       "      <td>0</td>\n",
       "    </tr>\n",
       "    <tr>\n",
       "      <th>16</th>\n",
       "      <td>1</td>\n",
       "      <td>PAYMENT</td>\n",
       "      <td>$1,563.82</td>\n",
       "      <td>C761750706</td>\n",
       "      <td>$450.00</td>\n",
       "      <td>$0.00</td>\n",
       "      <td>M1731217984</td>\n",
       "      <td>$0.00</td>\n",
       "      <td>$0.00</td>\n",
       "      <td>0</td>\n",
       "      <td>0</td>\n",
       "    </tr>\n",
       "    <tr>\n",
       "      <th>17</th>\n",
       "      <td>1</td>\n",
       "      <td>PAYMENT</td>\n",
       "      <td>$1,157.86</td>\n",
       "      <td>C1237762639</td>\n",
       "      <td>$21,156.00</td>\n",
       "      <td>$19,998.14</td>\n",
       "      <td>M1877062907</td>\n",
       "      <td>$0.00</td>\n",
       "      <td>$0.00</td>\n",
       "      <td>0</td>\n",
       "      <td>0</td>\n",
       "    </tr>\n",
       "    <tr>\n",
       "      <th>18</th>\n",
       "      <td>1</td>\n",
       "      <td>PAYMENT</td>\n",
       "      <td>$671.64</td>\n",
       "      <td>C2033524545</td>\n",
       "      <td>$15,123.00</td>\n",
       "      <td>$14,451.36</td>\n",
       "      <td>M473053293</td>\n",
       "      <td>$0.00</td>\n",
       "      <td>$0.00</td>\n",
       "      <td>0</td>\n",
       "      <td>0</td>\n",
       "    </tr>\n",
       "    <tr>\n",
       "      <th>19</th>\n",
       "      <td>1</td>\n",
       "      <td>TRANSFER</td>\n",
       "      <td>$215,310.30</td>\n",
       "      <td>C1670993182</td>\n",
       "      <td>$705.00</td>\n",
       "      <td>$0.00</td>\n",
       "      <td>C1100439041</td>\n",
       "      <td>$22,425.00</td>\n",
       "      <td>$0.00</td>\n",
       "      <td>0</td>\n",
       "      <td>0</td>\n",
       "    </tr>\n",
       "  </tbody>\n",
       "</table>\n",
       "</div>"
      ],
      "text/plain": [
       "    step      type       amount     nameOrig oldbalanceOrg newbalanceOrig  \\\n",
       "0      1   PAYMENT    $9,839.64  C1231006815   $170,136.00    $160,296.36   \n",
       "1      1   PAYMENT    $1,864.28  C1666544295    $21,249.00     $19,384.72   \n",
       "2      1  TRANSFER      $181.00  C1305486145       $181.00          $0.00   \n",
       "3      1  CASH_OUT      $181.00   C840083671       $181.00          $0.00   \n",
       "4      1   PAYMENT   $11,668.14  C2048537720    $41,554.00     $29,885.86   \n",
       "5      1   PAYMENT    $7,817.71    C90045638    $53,860.00     $46,042.29   \n",
       "6      1   PAYMENT    $7,107.77   C154988899   $183,195.00    $176,087.23   \n",
       "7      1   PAYMENT    $7,861.64  C1912850431   $176,087.23    $168,225.59   \n",
       "8      1   PAYMENT    $4,024.36  C1265012928     $2,671.00          $0.00   \n",
       "9      1     DEBIT    $5,337.77   C712410124    $41,720.00     $36,382.23   \n",
       "10     1     DEBIT    $9,644.94  C1900366749     $4,465.00          $0.00   \n",
       "11     1   PAYMENT    $3,099.97   C249177573    $20,771.00     $17,671.03   \n",
       "12     1   PAYMENT    $2,560.74  C1648232591     $5,070.00      $2,509.26   \n",
       "13     1   PAYMENT   $11,633.76  C1716932897    $10,127.00          $0.00   \n",
       "14     1   PAYMENT    $4,098.78  C1026483832   $503,264.00    $499,165.22   \n",
       "15     1  CASH_OUT  $229,133.94   C905080434    $15,325.00          $0.00   \n",
       "16     1   PAYMENT    $1,563.82   C761750706       $450.00          $0.00   \n",
       "17     1   PAYMENT    $1,157.86  C1237762639    $21,156.00     $19,998.14   \n",
       "18     1   PAYMENT      $671.64  C2033524545    $15,123.00     $14,451.36   \n",
       "19     1  TRANSFER  $215,310.30  C1670993182       $705.00          $0.00   \n",
       "\n",
       "       nameDest oldbalanceDest newbalanceDest  isFraud  isFlaggedFraud  \n",
       "0   M1979787155          $0.00          $0.00        0               0  \n",
       "1   M2044282225          $0.00          $0.00        0               0  \n",
       "2    C553264065          $0.00          $0.00        1               0  \n",
       "3     C38997010     $21,182.00          $0.00        1               0  \n",
       "4   M1230701703          $0.00          $0.00        0               0  \n",
       "5    M573487274          $0.00          $0.00        0               0  \n",
       "6    M408069119          $0.00          $0.00        0               0  \n",
       "7    M633326333          $0.00          $0.00        0               0  \n",
       "8   M1176932104          $0.00          $0.00        0               0  \n",
       "9    C195600860     $41,898.00     $40,348.79        0               0  \n",
       "10   C997608398     $10,845.00    $157,982.12        0               0  \n",
       "11  M2096539129          $0.00          $0.00        0               0  \n",
       "12   M972865270          $0.00          $0.00        0               0  \n",
       "13   M801569151          $0.00          $0.00        0               0  \n",
       "14  M1635378213          $0.00          $0.00        0               0  \n",
       "15   C476402209      $5,083.00     $51,513.44        0               0  \n",
       "16  M1731217984          $0.00          $0.00        0               0  \n",
       "17  M1877062907          $0.00          $0.00        0               0  \n",
       "18   M473053293          $0.00          $0.00        0               0  \n",
       "19  C1100439041     $22,425.00          $0.00        0               0  "
      ]
     },
     "execution_count": 6,
     "metadata": {},
     "output_type": "execute_result"
    }
   ],
   "source": [
    "# Confirming changes were made to the dataframe \n",
    "data.head(20)"
   ]
  },
  {
   "cell_type": "markdown",
   "metadata": {},
   "source": [
    "### Determining Relevant Columns and Sub-groups to minimize less relevant data to the model \n",
    "\n",
    "A few other columns that seem relevant to the fraud detection model are the different balance columns that show the transaction amounts in refernce to the original balances. This is helpful in fraud detection because a targeted account would most likely show a large depletion in their account relevant to the balance they currently held in the account already. \n",
    "\n",
    "Hypothesized highly relevant columns to the fraud detection model: \n",
    "**OldBalanceOrg: The origin accounts balance before the transaction** <br> \n",
    "\n",
    "**NewBalanceOrg: The origin accounts balance after the transaction**<br>\n",
    "\n",
    "The last columns that are most relevant to the model is the destination in which the money is going. There are three columnns that deal with destination of the transaction amount, however it's unclear what the \"nameDest\" is referencing if only comparing to the original account number. However, if any \"Destination\"- account appears amongst multiple different \"Origins\": ['NameOrig'], then it may be an account that commits frequent fraud. The new balance and old balance destination appear to be a good predictor of potential fraud as well. "
   ]
  },
  {
   "cell_type": "code",
   "execution_count": 7,
   "metadata": {},
   "outputs": [
    {
     "data": {
      "text/plain": [
       "array(['PAYMENT', 'TRANSFER', 'CASH_OUT', 'DEBIT', 'CASH_IN'],\n",
       "      dtype=object)"
      ]
     },
     "execution_count": 7,
     "metadata": {},
     "output_type": "execute_result"
    }
   ],
   "source": [
    "data['type'].unique()\n"
   ]
  },
  {
   "cell_type": "markdown",
   "metadata": {},
   "source": [
    "The dataframe has the following unique values in the \"type\" column which can be used for further analysis:\n",
    "\n",
    "PAYMENT <br>\n",
    "TRANSFER<br>\n",
    "CASH_OUT<br>\n",
    "DEBIT<br>\n",
    "CASH_IN\n",
    "<br>\n"
   ]
  },
  {
   "cell_type": "markdown",
   "metadata": {},
   "source": [
    "\n",
    "### Proposed Edits to the dataframe\n",
    "<br> \n",
    "\n",
    "**Columns to Drop**\n",
    "NameOrigin \n",
    "\n",
    "**Proposed New Columns**"
   ]
  },
  {
   "cell_type": "code",
   "execution_count": 8,
   "metadata": {},
   "outputs": [
    {
     "name": "stdout",
     "output_type": "stream",
     "text": [
      "Numerical Features: Index(['step', 'isFraud', 'isFlaggedFraud'], dtype='object')\n",
      "Categorical Features: Index(['type', 'amount', 'nameOrig', 'oldbalanceOrg', 'newbalanceOrig',\n",
      "       'nameDest', 'oldbalanceDest', 'newbalanceDest'],\n",
      "      dtype='object')\n"
     ]
    }
   ],
   "source": [
    "# Separate numerical and categorical features\n",
    "numerical_features = data.select_dtypes(include=['float64', 'int64']).columns\n",
    "categorical_features = data.select_dtypes(include=['object']).columns\n",
    "\n",
    "# Check the results\n",
    "print(f\"Numerical Features: {numerical_features}\")\n",
    "print(f\"Categorical Features: {categorical_features}\")\n"
   ]
  },
  {
   "cell_type": "markdown",
   "metadata": {},
   "source": [
    "## Initial Data Visualizations"
   ]
  },
  {
   "cell_type": "code",
   "execution_count": 9,
   "metadata": {},
   "outputs": [
    {
     "data": {
      "image/png": "[encoded data removed]",
      "text/plain": [
       "<Figure size 800x600 with 1 Axes>"
      ]
     },
     "metadata": {},
     "output_type": "display_data"
    }
   ],
   "source": [
    "\n",
    "# Univariate Analysis - Distribution of 'type' column\n",
    "plt.figure(figsize=(8, 6))\n",
    "sns.countplot(data['type'])\n",
    "plt.title('Distribution of Transaction Types')\n",
    "plt.xlabel('Type')\n",
    "plt.ylabel('Frequency')\n",
    "plt.xticks(rotation=45)\n",
    "plt.show()\n",
    "\n",
    "\n"
   ]
  },
  {
   "cell_type": "markdown",
   "metadata": {},
   "source": [
    "In the graph above, the distribution of transaction types shows the different types of transactions made at each instance. Since this is a fraud detection model, it might not be necessary to take into account a transaction type such as \"CASH_IN\". A transaction type of adding money into an account very rarely would be fraudulent and even if it were, the transactions that will be most likely to be high predictors of fraud would be high values in 'CASH_OUT' or 'TRANSFER' "
   ]
  },
  {
   "cell_type": "code",
   "execution_count": 10,
   "metadata": {},
   "outputs": [
    {
     "data": {
      "image/png": "[encoded data removed]",
      "text/plain": [
       "<Figure size 1000x600 with 2 Axes>"
      ]
     },
     "metadata": {},
     "output_type": "display_data"
    }
   ],
   "source": [
    "# Bivariate Analysis - Correlation heatmap between numerical features\n",
    "corr = data[numerical_features].corr()\n",
    "\n",
    "plt.figure(figsize=(10, 6))\n",
    "sns.heatmap(corr, annot=True, cmap='coolwarm', fmt='.2f')\n",
    "plt.title('Correlation Heatmap')\n",
    "plt.show()\n",
    "\n"
   ]
  },
  {
   "cell_type": "code",
   "execution_count": 11,
   "metadata": {},
   "outputs": [
    {
     "data": {
      "image/png": "[encoded data removed]",
      "text/plain": [
       "<Figure size 800x600 with 1 Axes>"
      ]
     },
     "metadata": {},
     "output_type": "display_data"
    }
   ],
   "source": [
    "# Bivariate Analysis - Transaction Type vs Fraud\n",
    "plt.figure(figsize=(8, 6))\n",
    "sns.countplot(x='type', hue='isFraud', data=data)\n",
    "plt.title('Transaction Type vs Fraud')\n",
    "plt.xlabel('Transaction Type')\n",
    "plt.ylabel('Count')\n",
    "plt.xticks(rotation=45)\n",
    "plt.show()\n",
    "\n"
   ]
  },
  {
   "cell_type": "code",
   "execution_count": null,
   "metadata": {},
   "outputs": [],
   "source": [
    "# Bivariate Analysis - Amount vs Fraud (Boxplot)\n",
    "plt.figure(figsize=(20, 10))\n",
    "sns.boxplot(x='isFraud', y='amount', data=data)\n",
    "plt.title('Amount vs Fraud')\n",
    "plt.xlabel('Is Fraud')\n",
    "plt.ylabel('Amount')\n",
    "plt.show()"
   ]
  },
  {
   "cell_type": "markdown",
   "metadata": {},
   "source": [
    "It's a bit difficult to truly view the data through box plots with such a large amount of data. It may be clearer to use a sample of the data instead. "
   ]
  },
  {
   "cell_type": "markdown",
   "metadata": {},
   "source": [
    "## Taking a smaller sample of the whole dataset: Downsampling to get a better picture of the data with limited outliers  "
   ]
  },
  {
   "cell_type": "code",
   "execution_count": 13,
   "metadata": {},
   "outputs": [
    {
     "name": "stdout",
     "output_type": "stream",
     "text": [
      "0          0\n",
      "1          0\n",
      "2          1\n",
      "3          1\n",
      "4          0\n",
      "          ..\n",
      "6362615    1\n",
      "6362616    1\n",
      "6362617    1\n",
      "6362618    1\n",
      "6362619    1\n",
      "Name: isFraud, Length: 6362620, dtype: int64\n",
      "<class 'pandas.core.series.Series'>\n"
     ]
    }
   ],
   "source": [
    "# Sample a portion of the data\n",
    "\n",
    "#print(data[pairplot_columns].head(50))\n",
    "pairplot_data_sampled = data.sample(frac=0.1, random_state=100)\n",
    "\n",
    "print(data['isFraud'])\n",
    "print(type(data['isFraud']))\n",
    "\n",
    "#pairplot_data_sampled.tail(50)\n"
   ]
  },
  {
   "cell_type": "code",
   "execution_count": 14,
   "metadata": {},
   "outputs": [
    {
     "name": "stdout",
     "output_type": "stream",
     "text": [
      "<class 'pandas.core.series.Series'>\n"
     ]
    }
   ],
   "source": [
    "# Here I was having difficulties because the sample I created wasn't showing up as a pandas dataframe with each column as a series. Instead, the columns were also dataframes which I have  resolved\n",
    "# \n",
    "print(type(pairplot_data_sampled['isFraud']))  \n"
   ]
  },
  {
   "cell_type": "code",
   "execution_count": 15,
   "metadata": {},
   "outputs": [
    {
     "name": "stdout",
     "output_type": "stream",
     "text": [
      "int64\n"
     ]
    }
   ],
   "source": [
    "print(pairplot_data_sampled['isFraud'].dtype)   \n"
   ]
  },
  {
   "cell_type": "code",
   "execution_count": 16,
   "metadata": {},
   "outputs": [
    {
     "data": {
      "text/plain": [
       "isFraud\n",
       "0    6354407\n",
       "1       8213\n",
       "Name: count, dtype: int64"
      ]
     },
     "execution_count": 16,
     "metadata": {},
     "output_type": "execute_result"
    }
   ],
   "source": [
    "data['isFraud'].value_counts()\n"
   ]
  },
  {
   "cell_type": "code",
   "execution_count": 17,
   "metadata": {},
   "outputs": [
    {
     "data": {
      "text/plain": [
       "isFraud\n",
       "0    99.870918\n",
       "1     0.129082\n",
       "Name: proportion, dtype: float64"
      ]
     },
     "execution_count": 17,
     "metadata": {},
     "output_type": "execute_result"
    }
   ],
   "source": [
    "data['isFraud'].value_counts(normalize=True) * 100\n"
   ]
  },
  {
   "cell_type": "markdown",
   "metadata": {},
   "source": [
    "In the two cells above, it's a bit more clear to view the imbalance between the two classes. This makes sense, as we can imagine that the baseline of fraud detection would be that a transaction is flagged as \"Not Fraud\", which is classified as 0.  \n",
    "\n",
    "In order to deal with this issue, we can use Synthetic Minority Over-sampling Technique (SMOTE) to address the issue of the minority class. \n",
    "\n",
    "<br> \n",
    "\n",
    "**I've added the following to the top of the jupyter notebook:**\n",
    "\n",
    "from imblearn.over_sampling import SMOTE <br>\n",
    "from sklearn.model_selection import train_test_split <br>\n",
    "from sklearn.ensemble import RandomForestClassifier <br>\n",
    "from sklearn.metrics import classification_report <br>"
   ]
  },
  {
   "cell_type": "markdown",
   "metadata": {},
   "source": []
  }
 ],
 "metadata": {
  "kernelspec": {
   "display_name": "base",
   "language": "python",
   "name": "python3"
  },
  "language_info": {
   "codemirror_mode": {
    "name": "ipython",
    "version": 3
   },
   "file_extension": ".py",
   "mimetype": "text/x-python",
   "name": "python",
   "nbconvert_exporter": "python",
   "pygments_lexer": "ipython3",
   "version": "3.12.7"
  }
 },
 "nbformat": 4,
 "nbformat_minor": 2
}
